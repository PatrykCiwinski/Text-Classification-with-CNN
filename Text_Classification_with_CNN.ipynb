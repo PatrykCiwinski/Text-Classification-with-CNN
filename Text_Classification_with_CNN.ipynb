{
  "nbformat": 4,
  "nbformat_minor": 0,
  "metadata": {
    "colab": {
      "provenance": [],
      "gpuType": "T4",
      "authorship_tag": "ABX9TyNNVgUCxO8j7kXPe1JReBru",
      "include_colab_link": true
    },
    "kernelspec": {
      "name": "python3",
      "display_name": "Python 3"
    },
    "language_info": {
      "name": "python"
    },
    "accelerator": "GPU"
  },
  "cells": [
    {
      "cell_type": "markdown",
      "metadata": {
        "id": "view-in-github",
        "colab_type": "text"
      },
      "source": [
        "<a href=\"https://colab.research.google.com/github/PatrykCiwinski/Text-Classification-with-CNN/blob/main/Text_Classification_with_CNN.ipynb\" target=\"_parent\"><img src=\"https://colab.research.google.com/assets/colab-badge.svg\" alt=\"Open In Colab\"/></a>"
      ]
    },
    {
      "cell_type": "code",
      "execution_count": 212,
      "metadata": {
        "colab": {
          "base_uri": "https://localhost:8080/"
        },
        "id": "v8LA67tGV6c5",
        "outputId": "d9b6dad5-aa23-4ad7-d468-f7fd52974bce"
      },
      "outputs": [
        {
          "output_type": "stream",
          "name": "stdout",
          "text": [
            "Access denied with the following error:\n",
            "\n",
            " \tCannot retrieve the public link of the file. You may need to change\n",
            "\tthe permission to 'Anyone with the link', or have had many accesses. \n",
            "\n",
            "You may still be able to access the file from the browser:\n",
            "\n",
            "\t https://drive.google.com/uc?id=1iboAP6jwWe0FnhYlz97Q_62Udc2aTNp4/ \n",
            "\n"
          ]
        }
      ],
      "source": [
        "!gdown 1iboAP6jwWe0FnhYlz97Q_62Udc2aTNp4/"
      ]
    },
    {
      "cell_type": "code",
      "source": [
        "import numpy as np\n",
        "import pandas as pd\n",
        "import tensorflow as tf\n",
        "import matplotlib.pyplot as plt\n",
        "from sklearn.model_selection import train_test_split\n",
        "\n",
        "from tensorflow.keras.preprocessing.text import Tokenizer\n",
        "from tensorflow.keras.preprocessing.sequence import pad_sequences\n",
        "from tensorflow.keras.layers import Dense, Input, GlobalMaxPooling1D,Conv1D,MaxPooling1D, Embedding\n",
        "from tensorflow.keras.models import Model\n",
        "from tensorflow.keras.losses import SparseCategoricalCrossentropy\n",
        "from tensorflow.keras.callbacks import EarlyStopping"
      ],
      "metadata": {
        "id": "IsY44cnOV_vz"
      },
      "execution_count": 213,
      "outputs": []
    },
    {
      "cell_type": "code",
      "source": [
        "df = pd.read_csv('bbc_text_cls.csv')"
      ],
      "metadata": {
        "id": "tCdex8BKXTKo"
      },
      "execution_count": 214,
      "outputs": []
    },
    {
      "cell_type": "code",
      "source": [
        "df['labels_digits']=df['labels'].astype('category').cat.codes"
      ],
      "metadata": {
        "id": "-LIxTSJVXeaW"
      },
      "execution_count": 215,
      "outputs": []
    },
    {
      "cell_type": "code",
      "source": [
        "# number of classes( add one smoothing, to make model less over-confident )\n",
        "K=df['labels_digits'].max()+1"
      ],
      "metadata": {
        "id": "b0SK0GTuXvqN"
      },
      "execution_count": 216,
      "outputs": []
    },
    {
      "cell_type": "code",
      "source": [
        "df_train, df_test=train_test_split(df, test_size=0.3, random_state=123)"
      ],
      "metadata": {
        "id": "rS3-JKgfYQ8-"
      },
      "execution_count": 217,
      "outputs": []
    },
    {
      "cell_type": "code",
      "source": [
        "tokenizer= Tokenizer(2000)\n",
        "tokenizer.fit_on_texts(df_train['text'])\n",
        "# change texts to vectors\n",
        "seq_train=tokenizer.texts_to_sequences(df_train['text'])\n",
        "seq_test=tokenizer.texts_to_sequences(df_test['text'])"
      ],
      "metadata": {
        "id": "oQI9nUKLiYjB"
      },
      "execution_count": 218,
      "outputs": []
    },
    {
      "cell_type": "code",
      "source": [
        "word2idx=tokenizer.word_index"
      ],
      "metadata": {
        "id": "oK5RiZrYiihg"
      },
      "execution_count": 219,
      "outputs": []
    },
    {
      "cell_type": "code",
      "source": [
        "V=len(word2idx)"
      ],
      "metadata": {
        "id": "ho1ONaf0jEHi"
      },
      "execution_count": 220,
      "outputs": []
    },
    {
      "cell_type": "code",
      "source": [
        "#now to pad sequences\n",
        "data_train=pad_sequences(seq_train)"
      ],
      "metadata": {
        "id": "dRyYiJ5jk_Bw"
      },
      "execution_count": 221,
      "outputs": []
    },
    {
      "cell_type": "code",
      "source": [
        "T=data_train.shape[1]"
      ],
      "metadata": {
        "id": "nxksGKHElMNf"
      },
      "execution_count": 222,
      "outputs": []
    },
    {
      "cell_type": "code",
      "source": [
        "data_test=pad_sequences(seq_test,maxlen=T)"
      ],
      "metadata": {
        "id": "Iguq58b_lOlZ"
      },
      "execution_count": 223,
      "outputs": []
    },
    {
      "cell_type": "code",
      "source": [
        "embedding_dim = 50 #it's rather arbitral choose"
      ],
      "metadata": {
        "id": "DZQg6OD2l6n1"
      },
      "execution_count": 224,
      "outputs": []
    },
    {
      "cell_type": "code",
      "source": [
        "i=Input(shape=(T,))\n",
        "x=Embedding(V + 1, embedding_dim)(i)\n",
        "x=MaxPooling1D(3)(x)\n",
        "x=Conv1D(64,3,activation='relu')(x)\n",
        "x=MaxPooling1D(3)(x)\n",
        "x=Conv1D(128,3,activation='relu')(x)\n",
        "x=GlobalMaxPooling1D()(x)\n",
        "x=Dense(K)(x)\n",
        "\n",
        "model = Model(i,x)\n"
      ],
      "metadata": {
        "id": "mdzrZVW4mi94"
      },
      "execution_count": 225,
      "outputs": []
    },
    {
      "cell_type": "code",
      "source": [
        "model.compile(loss=SparseCategoricalCrossentropy(from_logits=True), optimizer='adam',metrics=['accuracy'])"
      ],
      "metadata": {
        "id": "hsbsDwFfnMuU"
      },
      "execution_count": 226,
      "outputs": []
    },
    {
      "cell_type": "code",
      "source": [
        "history=model.fit(data_train,df_train['labels_digits'],epochs=50,validation_data=(data_test,df_test['labels_digits']))"
      ],
      "metadata": {
        "colab": {
          "base_uri": "https://localhost:8080/"
        },
        "id": "3hSwAi3jo9nd",
        "outputId": "68e0e88d-eaea-4da6-9ad0-77ada8ee1421"
      },
      "execution_count": 227,
      "outputs": [
        {
          "output_type": "stream",
          "name": "stdout",
          "text": [
            "Epoch 1/50\n",
            "49/49 [==============================] - 8s 145ms/step - loss: 1.5995 - accuracy: 0.2511 - val_loss: 1.5940 - val_accuracy: 0.3174\n",
            "Epoch 2/50\n",
            "49/49 [==============================] - 6s 123ms/step - loss: 1.5122 - accuracy: 0.3693 - val_loss: 1.3300 - val_accuracy: 0.4940\n",
            "Epoch 3/50\n",
            "49/49 [==============================] - 4s 89ms/step - loss: 0.8192 - accuracy: 0.7103 - val_loss: 0.5547 - val_accuracy: 0.7919\n",
            "Epoch 4/50\n",
            "49/49 [==============================] - 5s 94ms/step - loss: 0.2764 - accuracy: 0.9358 - val_loss: 0.2915 - val_accuracy: 0.9057\n",
            "Epoch 5/50\n",
            "49/49 [==============================] - 3s 60ms/step - loss: 0.0686 - accuracy: 0.9910 - val_loss: 0.2170 - val_accuracy: 0.9192\n",
            "Epoch 6/50\n",
            "49/49 [==============================] - 3s 50ms/step - loss: 0.0189 - accuracy: 0.9994 - val_loss: 0.1893 - val_accuracy: 0.9341\n",
            "Epoch 7/50\n",
            "49/49 [==============================] - 2s 41ms/step - loss: 0.0076 - accuracy: 1.0000 - val_loss: 0.1812 - val_accuracy: 0.9311\n",
            "Epoch 8/50\n",
            "49/49 [==============================] - 3s 54ms/step - loss: 0.0041 - accuracy: 1.0000 - val_loss: 0.1754 - val_accuracy: 0.9386\n",
            "Epoch 9/50\n",
            "49/49 [==============================] - 2s 44ms/step - loss: 0.0027 - accuracy: 1.0000 - val_loss: 0.1716 - val_accuracy: 0.9386\n",
            "Epoch 10/50\n",
            "49/49 [==============================] - 1s 26ms/step - loss: 0.0020 - accuracy: 1.0000 - val_loss: 0.1698 - val_accuracy: 0.9386\n",
            "Epoch 11/50\n",
            "49/49 [==============================] - 1s 24ms/step - loss: 0.0015 - accuracy: 1.0000 - val_loss: 0.1690 - val_accuracy: 0.9431\n",
            "Epoch 12/50\n",
            "49/49 [==============================] - 1s 23ms/step - loss: 0.0011 - accuracy: 1.0000 - val_loss: 0.1674 - val_accuracy: 0.9431\n",
            "Epoch 13/50\n",
            "49/49 [==============================] - 1s 30ms/step - loss: 8.8387e-04 - accuracy: 1.0000 - val_loss: 0.1664 - val_accuracy: 0.9431\n",
            "Epoch 14/50\n",
            "49/49 [==============================] - 1s 22ms/step - loss: 7.1408e-04 - accuracy: 1.0000 - val_loss: 0.1652 - val_accuracy: 0.9446\n",
            "Epoch 15/50\n",
            "49/49 [==============================] - 1s 25ms/step - loss: 5.8656e-04 - accuracy: 1.0000 - val_loss: 0.1642 - val_accuracy: 0.9446\n",
            "Epoch 16/50\n",
            "49/49 [==============================] - 1s 24ms/step - loss: 4.9105e-04 - accuracy: 1.0000 - val_loss: 0.1644 - val_accuracy: 0.9461\n",
            "Epoch 17/50\n",
            "49/49 [==============================] - 1s 28ms/step - loss: 4.1428e-04 - accuracy: 1.0000 - val_loss: 0.1642 - val_accuracy: 0.9461\n",
            "Epoch 18/50\n",
            "49/49 [==============================] - 1s 29ms/step - loss: 3.5410e-04 - accuracy: 1.0000 - val_loss: 0.1629 - val_accuracy: 0.9461\n",
            "Epoch 19/50\n",
            "49/49 [==============================] - 1s 21ms/step - loss: 3.0417e-04 - accuracy: 1.0000 - val_loss: 0.1623 - val_accuracy: 0.9461\n",
            "Epoch 20/50\n",
            "49/49 [==============================] - 1s 21ms/step - loss: 2.6402e-04 - accuracy: 1.0000 - val_loss: 0.1619 - val_accuracy: 0.9461\n",
            "Epoch 21/50\n",
            "49/49 [==============================] - 1s 25ms/step - loss: 2.3115e-04 - accuracy: 1.0000 - val_loss: 0.1620 - val_accuracy: 0.9461\n",
            "Epoch 22/50\n",
            "49/49 [==============================] - 1s 18ms/step - loss: 2.0386e-04 - accuracy: 1.0000 - val_loss: 0.1615 - val_accuracy: 0.9461\n",
            "Epoch 23/50\n",
            "49/49 [==============================] - 1s 18ms/step - loss: 1.7940e-04 - accuracy: 1.0000 - val_loss: 0.1610 - val_accuracy: 0.9491\n",
            "Epoch 24/50\n",
            "49/49 [==============================] - 1s 18ms/step - loss: 1.5970e-04 - accuracy: 1.0000 - val_loss: 0.1614 - val_accuracy: 0.9461\n",
            "Epoch 25/50\n",
            "49/49 [==============================] - 1s 12ms/step - loss: 1.4355e-04 - accuracy: 1.0000 - val_loss: 0.1605 - val_accuracy: 0.9491\n",
            "Epoch 26/50\n",
            "49/49 [==============================] - 1s 25ms/step - loss: 1.2933e-04 - accuracy: 1.0000 - val_loss: 0.1607 - val_accuracy: 0.9476\n",
            "Epoch 27/50\n",
            "49/49 [==============================] - 1s 15ms/step - loss: 1.1610e-04 - accuracy: 1.0000 - val_loss: 0.1605 - val_accuracy: 0.9476\n",
            "Epoch 28/50\n",
            "49/49 [==============================] - 1s 12ms/step - loss: 1.0511e-04 - accuracy: 1.0000 - val_loss: 0.1605 - val_accuracy: 0.9476\n",
            "Epoch 29/50\n",
            "49/49 [==============================] - 1s 17ms/step - loss: 9.5558e-05 - accuracy: 1.0000 - val_loss: 0.1603 - val_accuracy: 0.9476\n",
            "Epoch 30/50\n",
            "49/49 [==============================] - 1s 19ms/step - loss: 8.7175e-05 - accuracy: 1.0000 - val_loss: 0.1601 - val_accuracy: 0.9476\n",
            "Epoch 31/50\n",
            "49/49 [==============================] - 1s 17ms/step - loss: 7.9844e-05 - accuracy: 1.0000 - val_loss: 0.1603 - val_accuracy: 0.9476\n",
            "Epoch 32/50\n",
            "49/49 [==============================] - 1s 27ms/step - loss: 7.3305e-05 - accuracy: 1.0000 - val_loss: 0.1604 - val_accuracy: 0.9491\n",
            "Epoch 33/50\n",
            "49/49 [==============================] - 1s 12ms/step - loss: 6.7330e-05 - accuracy: 1.0000 - val_loss: 0.1604 - val_accuracy: 0.9491\n",
            "Epoch 34/50\n",
            "49/49 [==============================] - 1s 17ms/step - loss: 6.2042e-05 - accuracy: 1.0000 - val_loss: 0.1602 - val_accuracy: 0.9491\n",
            "Epoch 35/50\n",
            "49/49 [==============================] - 1s 16ms/step - loss: 5.7438e-05 - accuracy: 1.0000 - val_loss: 0.1604 - val_accuracy: 0.9491\n",
            "Epoch 36/50\n",
            "49/49 [==============================] - 1s 12ms/step - loss: 5.3027e-05 - accuracy: 1.0000 - val_loss: 0.1603 - val_accuracy: 0.9506\n",
            "Epoch 37/50\n",
            "49/49 [==============================] - 1s 15ms/step - loss: 4.9275e-05 - accuracy: 1.0000 - val_loss: 0.1605 - val_accuracy: 0.9506\n",
            "Epoch 38/50\n",
            "49/49 [==============================] - 1s 26ms/step - loss: 4.5903e-05 - accuracy: 1.0000 - val_loss: 0.1599 - val_accuracy: 0.9521\n",
            "Epoch 39/50\n",
            "49/49 [==============================] - 1s 15ms/step - loss: 4.2657e-05 - accuracy: 1.0000 - val_loss: 0.1602 - val_accuracy: 0.9521\n",
            "Epoch 40/50\n",
            "49/49 [==============================] - 1s 15ms/step - loss: 3.9908e-05 - accuracy: 1.0000 - val_loss: 0.1605 - val_accuracy: 0.9521\n",
            "Epoch 41/50\n",
            "49/49 [==============================] - 1s 15ms/step - loss: 3.7368e-05 - accuracy: 1.0000 - val_loss: 0.1601 - val_accuracy: 0.9521\n",
            "Epoch 42/50\n",
            "49/49 [==============================] - 1s 16ms/step - loss: 3.4957e-05 - accuracy: 1.0000 - val_loss: 0.1604 - val_accuracy: 0.9521\n",
            "Epoch 43/50\n",
            "49/49 [==============================] - 1s 15ms/step - loss: 3.2776e-05 - accuracy: 1.0000 - val_loss: 0.1601 - val_accuracy: 0.9521\n",
            "Epoch 44/50\n",
            "49/49 [==============================] - 1s 12ms/step - loss: 3.0822e-05 - accuracy: 1.0000 - val_loss: 0.1603 - val_accuracy: 0.9521\n",
            "Epoch 45/50\n",
            "49/49 [==============================] - 1s 20ms/step - loss: 2.8978e-05 - accuracy: 1.0000 - val_loss: 0.1601 - val_accuracy: 0.9521\n",
            "Epoch 46/50\n",
            "49/49 [==============================] - 1s 17ms/step - loss: 2.7273e-05 - accuracy: 1.0000 - val_loss: 0.1604 - val_accuracy: 0.9521\n",
            "Epoch 47/50\n",
            "49/49 [==============================] - 1s 21ms/step - loss: 2.5720e-05 - accuracy: 1.0000 - val_loss: 0.1605 - val_accuracy: 0.9521\n",
            "Epoch 48/50\n",
            "49/49 [==============================] - 1s 22ms/step - loss: 2.4255e-05 - accuracy: 1.0000 - val_loss: 0.1604 - val_accuracy: 0.9521\n",
            "Epoch 49/50\n",
            "49/49 [==============================] - 1s 12ms/step - loss: 2.2947e-05 - accuracy: 1.0000 - val_loss: 0.1604 - val_accuracy: 0.9521\n",
            "Epoch 50/50\n",
            "49/49 [==============================] - 1s 13ms/step - loss: 2.1714e-05 - accuracy: 1.0000 - val_loss: 0.1602 - val_accuracy: 0.9521\n"
          ]
        }
      ]
    },
    {
      "cell_type": "code",
      "source": [
        "import matplotlib.pyplot as plt\n",
        "plt.style.use('ggplot')\n",
        "\n",
        "def plot_history(history):\n",
        "    acc = history.history['accuracy']\n",
        "    val_acc = history.history['val_accuracy']\n",
        "    loss = history.history['loss']\n",
        "    val_loss = history.history['val_loss']\n",
        "    x = range(1, len(acc) + 1)\n",
        "\n",
        "    plt.figure(figsize=(12, 5))\n",
        "    plt.subplot(1, 2, 1)\n",
        "    plt.plot(x, acc, 'b', label='Training acc')\n",
        "    plt.plot(x, val_acc, 'r', label='Validation acc')\n",
        "    plt.title('Training and validation accuracy')\n",
        "    plt.legend()\n",
        "    plt.subplot(1, 2, 2)\n",
        "    plt.plot(x, loss, 'b', label='Training loss')\n",
        "    plt.plot(x, val_loss, 'r', label='Validation loss')\n",
        "    plt.title('Training and validation loss')\n",
        "    plt.legend()"
      ],
      "metadata": {
        "id": "oavCabbXpt0N"
      },
      "execution_count": 228,
      "outputs": []
    },
    {
      "cell_type": "code",
      "source": [
        "plot_history(history)"
      ],
      "metadata": {
        "colab": {
          "base_uri": "https://localhost:8080/",
          "height": 469
        },
        "id": "n72tjg-QtG73",
        "outputId": "2a4201c8-443d-4bf6-b249-d8b891239c62"
      },
      "execution_count": 229,
      "outputs": [
        {
          "output_type": "display_data",
          "data": {
            "text/plain": [
              "<Figure size 1200x500 with 2 Axes>"
            ],
            "image/png": "[encoded data removed]"
          },
          "metadata": {}
        }
      ]
    },
    {
      "cell_type": "code",
      "source": [
        "predictions=model.predict(data_test)"
      ],
      "metadata": {
        "colab": {
          "base_uri": "https://localhost:8080/"
        },
        "id": "XUxXGyTQtKNu",
        "outputId": "a2511804-5495-4f6f-e1ab-6995b8c11e70"
      },
      "execution_count": 230,
      "outputs": [
        {
          "output_type": "stream",
          "name": "stdout",
          "text": [
            "21/21 [==============================] - 0s 3ms/step\n"
          ]
        }
      ]
    },
    {
      "cell_type": "code",
      "source": [
        "preds=np.argmax(predictions, axis=1)"
      ],
      "metadata": {
        "id": "qrkwMJRjt6Ll"
      },
      "execution_count": 231,
      "outputs": []
    },
    {
      "cell_type": "code",
      "source": [
        "from sklearn.metrics import classification_report"
      ],
      "metadata": {
        "id": "4SaiQI9euSm5"
      },
      "execution_count": 232,
      "outputs": []
    },
    {
      "cell_type": "code",
      "source": [
        "print(classification_report(df_test['labels_digits'],preds))"
      ],
      "metadata": {
        "colab": {
          "base_uri": "https://localhost:8080/"
        },
        "id": "6LvnIi9Wt_93",
        "outputId": "1655c753-737c-44f0-d24c-024e6a3e1e8f"
      },
      "execution_count": 233,
      "outputs": [
        {
          "output_type": "stream",
          "name": "stdout",
          "text": [
            "              precision    recall  f1-score   support\n",
            "\n",
            "           0       0.96      0.92      0.94       140\n",
            "           1       0.95      0.97      0.96       124\n",
            "           2       0.96      0.95      0.96       136\n",
            "           3       0.98      0.99      0.99       159\n",
            "           4       0.89      0.92      0.90       109\n",
            "\n",
            "    accuracy                           0.95       668\n",
            "   macro avg       0.95      0.95      0.95       668\n",
            "weighted avg       0.95      0.95      0.95       668\n",
            "\n"
          ]
        }
      ]
    },
    {
      "cell_type": "code",
      "source": [
        "labels = {0:'business', 1:'entertainment', 2:'politics', 3:'sport',4:'tech'}"
      ],
      "metadata": {
        "id": "tYo_FVZhuXNJ"
      },
      "execution_count": 234,
      "outputs": []
    },
    {
      "cell_type": "code",
      "source": [
        "def text_to_predict(text):\n",
        "  sequence=tokenizer.texts_to_sequences([text])\n",
        "  text=pad_sequences(sequence,maxlen=T)\n",
        "  predictions=model.predict(text)\n",
        "  preds=np.argmax(predictions, axis=1)\n",
        "  return labels[preds[0]]"
      ],
      "metadata": {
        "id": "f2KsqplVtrXG"
      },
      "execution_count": 235,
      "outputs": []
    },
    {
      "cell_type": "code",
      "source": [
        "text_to_predict(\"But many of the same media associations and outlets that championed the bill may now face a threat to their businesses, as Google fuels a significant portion of web traffic to Canadian news outlets.\")"
      ],
      "metadata": {
        "colab": {
          "base_uri": "https://localhost:8080/",
          "height": 54
        },
        "id": "O4JwhNQ-0Jw_",
        "outputId": "3660c72c-3a47-4ad8-c099-15cc92108e86"
      },
      "execution_count": 236,
      "outputs": [
        {
          "output_type": "stream",
          "name": "stdout",
          "text": [
            "1/1 [==============================] - 0s 18ms/step\n"
          ]
        },
        {
          "output_type": "execute_result",
          "data": {
            "text/plain": [
              "'politics'"
            ],
            "application/vnd.google.colaboratory.intrinsic+json": {
              "type": "string"
            }
          },
          "metadata": {},
          "execution_count": 236
        }
      ]
    },
    {
      "cell_type": "code",
      "source": [
        "# Creating model with transformers is better"
      ],
      "metadata": {
        "id": "8rP8XM-40QX5"
      },
      "execution_count": 237,
      "outputs": []
    },
    {
      "cell_type": "code",
      "source": [],
      "metadata": {
        "id": "lDHPPbe6FDof"
      },
      "execution_count": 237,
      "outputs": []
    }
  ]
}