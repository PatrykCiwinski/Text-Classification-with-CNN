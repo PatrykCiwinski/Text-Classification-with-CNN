{
  "nbformat": 4,
  "nbformat_minor": 0,
  "metadata": {
    "colab": {
      "provenance": [],
      "gpuType": "T4",
      "authorship_tag": "ABX9TyNQAeRguWXK/k2vtdvOAs7y",
      "include_colab_link": true
    },
    "kernelspec": {
      "name": "python3",
      "display_name": "Python 3"
    },
    "language_info": {
      "name": "python"
    },
    "accelerator": "GPU"
  },
  "cells": [
    {
      "cell_type": "markdown",
      "metadata": {
        "id": "view-in-github",
        "colab_type": "text"
      },
      "source": [
        "<a href=\"https://colab.research.google.com/github/PatrykCiwinski/Text-Classification-with-CNN/blob/main/Text_Classification_with_CNN.ipynb\" target=\"_parent\"><img src=\"https://colab.research.google.com/assets/colab-badge.svg\" alt=\"Open In Colab\"/></a>"
      ]
    },
    {
      "cell_type": "code",
      "execution_count": 88,
      "metadata": {
        "colab": {
          "base_uri": "https://localhost:8080/"
        },
        "id": "v8LA67tGV6c5",
        "outputId": "298ad843-6957-49e5-8a22-468638f4e345"
      },
      "outputs": [
        {
          "output_type": "stream",
          "name": "stdout",
          "text": [
            "Access denied with the following error:\n",
            "\n",
            " \tCannot retrieve the public link of the file. You may need to change\n",
            "\tthe permission to 'Anyone with the link', or have had many accesses. \n",
            "\n",
            "You may still be able to access the file from the browser:\n",
            "\n",
            "\t https://drive.google.com/uc?id=1iboAP6jwWe0FnhYlz97Q_62Udc2aTNp4/ \n",
            "\n"
          ]
        }
      ],
      "source": [
        "!gdown 1iboAP6jwWe0FnhYlz97Q_62Udc2aTNp4/"
      ]
    },
    {
      "cell_type": "code",
      "source": [
        "import numpy as np\n",
        "import pandas as pd\n",
        "import tensorflow as tf\n",
        "import matplotlib.pyplot as plt\n",
        "from sklearn.model_selection import train_test_split\n",
        "\n",
        "from tensorflow.keras.preprocessing.text import Tokenizer\n",
        "from tensorflow.keras.preprocessing.sequence import pad_sequences\n",
        "from tensorflow.keras.layers import Dense, Input, GlobalMaxPooling1D,Conv1D,MaxPooling1D, Embedding\n",
        "from tensorflow.keras.models import Model\n",
        "from tensorflow.keras.losses import SparseCategoricalCrossentropy\n",
        "from tensorflow.keras.callbacks import EarlyStopping"
      ],
      "metadata": {
        "id": "IsY44cnOV_vz"
      },
      "execution_count": 89,
      "outputs": []
    },
    {
      "cell_type": "code",
      "source": [
        "df = pd.read_csv('bbc_text_cls.csv')"
      ],
      "metadata": {
        "id": "tCdex8BKXTKo"
      },
      "execution_count": 90,
      "outputs": []
    },
    {
      "cell_type": "code",
      "source": [
        "df['labels_digits']=df['labels'].astype('category').cat.codes"
      ],
      "metadata": {
        "id": "-LIxTSJVXeaW"
      },
      "execution_count": 91,
      "outputs": []
    },
    {
      "cell_type": "code",
      "source": [
        "# number of classes( add one smoothing, to make model less over-confident )\n",
        "K=df['labels_digits'].max()+1"
      ],
      "metadata": {
        "id": "b0SK0GTuXvqN"
      },
      "execution_count": 92,
      "outputs": []
    },
    {
      "cell_type": "code",
      "source": [
        "df_train, df_test=train_test_split(df, test_size=0.3, random_state=123)"
      ],
      "metadata": {
        "id": "rS3-JKgfYQ8-"
      },
      "execution_count": 93,
      "outputs": []
    },
    {
      "cell_type": "code",
      "source": [
        "tokenizer= Tokenizer(2000)\n",
        "tokenizer.fit_on_texts(df_train['text'])\n",
        "# change texts to vectors\n",
        "seq_train=tokenizer.texts_to_sequences(df_train['text'])\n",
        "seq_test=tokenizer.texts_to_sequences(df_test['text'])"
      ],
      "metadata": {
        "id": "oQI9nUKLiYjB"
      },
      "execution_count": 94,
      "outputs": []
    },
    {
      "cell_type": "code",
      "source": [
        "word2idx=tokenizer.word_index"
      ],
      "metadata": {
        "id": "oK5RiZrYiihg"
      },
      "execution_count": 95,
      "outputs": []
    },
    {
      "cell_type": "code",
      "source": [
        "V=len(word2idx)"
      ],
      "metadata": {
        "id": "ho1ONaf0jEHi"
      },
      "execution_count": 96,
      "outputs": []
    },
    {
      "cell_type": "code",
      "source": [
        "#now to pad sequences\n",
        "data_train=pad_sequences(seq_train)"
      ],
      "metadata": {
        "id": "dRyYiJ5jk_Bw"
      },
      "execution_count": 97,
      "outputs": []
    },
    {
      "cell_type": "code",
      "source": [
        "T=data_train.shape[1]"
      ],
      "metadata": {
        "id": "nxksGKHElMNf"
      },
      "execution_count": 98,
      "outputs": []
    },
    {
      "cell_type": "code",
      "source": [
        "data_test=pad_sequences(seq_test,maxlen=T)"
      ],
      "metadata": {
        "id": "Iguq58b_lOlZ"
      },
      "execution_count": 99,
      "outputs": []
    },
    {
      "cell_type": "code",
      "source": [
        "embedding_dim = 50 #it's rather arbitral choose"
      ],
      "metadata": {
        "id": "DZQg6OD2l6n1"
      },
      "execution_count": 100,
      "outputs": []
    },
    {
      "cell_type": "code",
      "source": [
        "i=Input(shape=(T,))\n",
        "x=Embedding(V + 1, embedding_dim)(i)\n",
        "x=MaxPooling1D(3)(x)\n",
        "x=Conv1D(64,3,activation='relu')(x)\n",
        "x=MaxPooling1D(3)(x)\n",
        "x=Conv1D(128,3,activation='relu')(x)\n",
        "x=GlobalMaxPooling1D()(x)\n",
        "x=Dense(K,activation='softmax')(x)\n",
        "\n",
        "model = Model(i,x)\n"
      ],
      "metadata": {
        "id": "mdzrZVW4mi94"
      },
      "execution_count": 184,
      "outputs": []
    },
    {
      "cell_type": "code",
      "source": [
        "model.compile(loss=SparseCategoricalCrossentropy(from_logits=True), optimizer='adam',metrics=['accuracy'])"
      ],
      "metadata": {
        "id": "hsbsDwFfnMuU"
      },
      "execution_count": 185,
      "outputs": []
    },
    {
      "cell_type": "code",
      "source": [
        "history=model.fit(data_train,df_train['labels_digits'],epochs=50,validation_data=(data_test,df_test['labels_digits']))"
      ],
      "metadata": {
        "colab": {
          "base_uri": "https://localhost:8080/"
        },
        "id": "3hSwAi3jo9nd",
        "outputId": "46e8d6bf-0e0b-4339-e528-00641f64deec"
      },
      "execution_count": 186,
      "outputs": [
        {
          "output_type": "stream",
          "name": "stdout",
          "text": [
            "Epoch 1/50\n"
          ]
        },
        {
          "output_type": "stream",
          "name": "stderr",
          "text": [
            "/usr/local/lib/python3.10/dist-packages/keras/backend.py:5612: UserWarning: \"`sparse_categorical_crossentropy` received `from_logits=True`, but the `output` argument was produced by a Softmax activation and thus does not represent logits. Was this intended?\n",
            "  output, from_logits = _get_logits(\n"
          ]
        },
        {
          "output_type": "stream",
          "name": "stdout",
          "text": [
            "49/49 [==============================] - 9s 155ms/step - loss: 1.6028 - accuracy: 0.2312 - val_loss: 1.6057 - val_accuracy: 0.2096\n",
            "Epoch 2/50\n",
            "49/49 [==============================] - 5s 99ms/step - loss: 1.5432 - accuracy: 0.3558 - val_loss: 1.4309 - val_accuracy: 0.4446\n",
            "Epoch 3/50\n",
            "49/49 [==============================] - 5s 91ms/step - loss: 0.9920 - accuracy: 0.6358 - val_loss: 0.7018 - val_accuracy: 0.7560\n",
            "Epoch 4/50\n",
            "49/49 [==============================] - 4s 80ms/step - loss: 0.3933 - accuracy: 0.9075 - val_loss: 0.3635 - val_accuracy: 0.8862\n",
            "Epoch 5/50\n",
            "49/49 [==============================] - 2s 46ms/step - loss: 0.1023 - accuracy: 0.9846 - val_loss: 0.2289 - val_accuracy: 0.9162\n",
            "Epoch 6/50\n",
            "49/49 [==============================] - 4s 80ms/step - loss: 0.0288 - accuracy: 0.9987 - val_loss: 0.2002 - val_accuracy: 0.9266\n",
            "Epoch 7/50\n",
            "49/49 [==============================] - 3s 65ms/step - loss: 0.0116 - accuracy: 1.0000 - val_loss: 0.1895 - val_accuracy: 0.9251\n",
            "Epoch 8/50\n",
            "49/49 [==============================] - 2s 45ms/step - loss: 0.0063 - accuracy: 1.0000 - val_loss: 0.1831 - val_accuracy: 0.9296\n",
            "Epoch 9/50\n",
            "49/49 [==============================] - 2s 33ms/step - loss: 0.0041 - accuracy: 1.0000 - val_loss: 0.1814 - val_accuracy: 0.9311\n",
            "Epoch 10/50\n",
            "49/49 [==============================] - 1s 19ms/step - loss: 0.0030 - accuracy: 1.0000 - val_loss: 0.1781 - val_accuracy: 0.9341\n",
            "Epoch 11/50\n",
            "49/49 [==============================] - 1s 31ms/step - loss: 0.0022 - accuracy: 1.0000 - val_loss: 0.1771 - val_accuracy: 0.9326\n",
            "Epoch 12/50\n",
            "49/49 [==============================] - 2s 51ms/step - loss: 0.0017 - accuracy: 1.0000 - val_loss: 0.1760 - val_accuracy: 0.9371\n",
            "Epoch 13/50\n",
            "49/49 [==============================] - 1s 28ms/step - loss: 0.0014 - accuracy: 1.0000 - val_loss: 0.1747 - val_accuracy: 0.9371\n",
            "Epoch 14/50\n",
            "49/49 [==============================] - 1s 31ms/step - loss: 0.0011 - accuracy: 1.0000 - val_loss: 0.1751 - val_accuracy: 0.9371\n",
            "Epoch 15/50\n",
            "49/49 [==============================] - 1s 27ms/step - loss: 9.3426e-04 - accuracy: 1.0000 - val_loss: 0.1746 - val_accuracy: 0.9371\n",
            "Epoch 16/50\n",
            "49/49 [==============================] - 1s 24ms/step - loss: 7.8496e-04 - accuracy: 1.0000 - val_loss: 0.1747 - val_accuracy: 0.9371\n",
            "Epoch 17/50\n",
            "49/49 [==============================] - 1s 27ms/step - loss: 6.7174e-04 - accuracy: 1.0000 - val_loss: 0.1752 - val_accuracy: 0.9371\n",
            "Epoch 18/50\n",
            "49/49 [==============================] - 1s 22ms/step - loss: 5.7819e-04 - accuracy: 1.0000 - val_loss: 0.1748 - val_accuracy: 0.9371\n",
            "Epoch 19/50\n",
            "49/49 [==============================] - 1s 18ms/step - loss: 5.0560e-04 - accuracy: 1.0000 - val_loss: 0.1746 - val_accuracy: 0.9371\n",
            "Epoch 20/50\n",
            "49/49 [==============================] - 1s 18ms/step - loss: 4.4095e-04 - accuracy: 1.0000 - val_loss: 0.1757 - val_accuracy: 0.9371\n",
            "Epoch 21/50\n",
            "49/49 [==============================] - 1s 16ms/step - loss: 3.8977e-04 - accuracy: 1.0000 - val_loss: 0.1754 - val_accuracy: 0.9371\n",
            "Epoch 22/50\n",
            "49/49 [==============================] - 1s 21ms/step - loss: 3.4673e-04 - accuracy: 1.0000 - val_loss: 0.1757 - val_accuracy: 0.9371\n",
            "Epoch 23/50\n",
            "49/49 [==============================] - 1s 28ms/step - loss: 3.1000e-04 - accuracy: 1.0000 - val_loss: 0.1761 - val_accuracy: 0.9371\n",
            "Epoch 24/50\n",
            "49/49 [==============================] - 1s 19ms/step - loss: 2.7825e-04 - accuracy: 1.0000 - val_loss: 0.1764 - val_accuracy: 0.9371\n",
            "Epoch 25/50\n",
            "49/49 [==============================] - 1s 13ms/step - loss: 2.5070e-04 - accuracy: 1.0000 - val_loss: 0.1765 - val_accuracy: 0.9386\n",
            "Epoch 26/50\n",
            "49/49 [==============================] - 1s 16ms/step - loss: 2.2685e-04 - accuracy: 1.0000 - val_loss: 0.1770 - val_accuracy: 0.9401\n",
            "Epoch 27/50\n",
            "49/49 [==============================] - 1s 17ms/step - loss: 2.0629e-04 - accuracy: 1.0000 - val_loss: 0.1772 - val_accuracy: 0.9401\n",
            "Epoch 28/50\n",
            "49/49 [==============================] - 1s 25ms/step - loss: 1.8813e-04 - accuracy: 1.0000 - val_loss: 0.1777 - val_accuracy: 0.9401\n",
            "Epoch 29/50\n",
            "49/49 [==============================] - 1s 21ms/step - loss: 1.7210e-04 - accuracy: 1.0000 - val_loss: 0.1774 - val_accuracy: 0.9401\n",
            "Epoch 30/50\n",
            "49/49 [==============================] - 1s 18ms/step - loss: 1.5752e-04 - accuracy: 1.0000 - val_loss: 0.1780 - val_accuracy: 0.9401\n",
            "Epoch 31/50\n",
            "49/49 [==============================] - 1s 13ms/step - loss: 1.4500e-04 - accuracy: 1.0000 - val_loss: 0.1783 - val_accuracy: 0.9401\n",
            "Epoch 32/50\n",
            "49/49 [==============================] - 1s 14ms/step - loss: 1.3372e-04 - accuracy: 1.0000 - val_loss: 0.1786 - val_accuracy: 0.9401\n",
            "Epoch 33/50\n",
            "49/49 [==============================] - 1s 23ms/step - loss: 1.2378e-04 - accuracy: 1.0000 - val_loss: 0.1785 - val_accuracy: 0.9401\n",
            "Epoch 34/50\n",
            "49/49 [==============================] - 1s 15ms/step - loss: 1.1455e-04 - accuracy: 1.0000 - val_loss: 0.1789 - val_accuracy: 0.9401\n",
            "Epoch 35/50\n",
            "49/49 [==============================] - 1s 14ms/step - loss: 1.0644e-04 - accuracy: 1.0000 - val_loss: 0.1793 - val_accuracy: 0.9416\n",
            "Epoch 36/50\n",
            "49/49 [==============================] - 1s 15ms/step - loss: 9.8854e-05 - accuracy: 1.0000 - val_loss: 0.1794 - val_accuracy: 0.9431\n",
            "Epoch 37/50\n",
            "49/49 [==============================] - 1s 27ms/step - loss: 9.2221e-05 - accuracy: 1.0000 - val_loss: 0.1797 - val_accuracy: 0.9416\n",
            "Epoch 38/50\n",
            "49/49 [==============================] - 1s 14ms/step - loss: 8.5996e-05 - accuracy: 1.0000 - val_loss: 0.1800 - val_accuracy: 0.9431\n",
            "Epoch 39/50\n",
            "49/49 [==============================] - 1s 22ms/step - loss: 8.0302e-05 - accuracy: 1.0000 - val_loss: 0.1799 - val_accuracy: 0.9416\n",
            "Epoch 40/50\n",
            "49/49 [==============================] - 1s 15ms/step - loss: 7.5059e-05 - accuracy: 1.0000 - val_loss: 0.1805 - val_accuracy: 0.9431\n",
            "Epoch 41/50\n",
            "49/49 [==============================] - 1s 20ms/step - loss: 7.0448e-05 - accuracy: 1.0000 - val_loss: 0.1807 - val_accuracy: 0.9431\n",
            "Epoch 42/50\n",
            "49/49 [==============================] - 1s 16ms/step - loss: 6.6152e-05 - accuracy: 1.0000 - val_loss: 0.1809 - val_accuracy: 0.9416\n",
            "Epoch 43/50\n",
            "49/49 [==============================] - 1s 13ms/step - loss: 6.2088e-05 - accuracy: 1.0000 - val_loss: 0.1810 - val_accuracy: 0.9431\n",
            "Epoch 44/50\n",
            "49/49 [==============================] - 1s 14ms/step - loss: 5.8486e-05 - accuracy: 1.0000 - val_loss: 0.1816 - val_accuracy: 0.9431\n",
            "Epoch 45/50\n",
            "49/49 [==============================] - 1s 19ms/step - loss: 5.4973e-05 - accuracy: 1.0000 - val_loss: 0.1818 - val_accuracy: 0.9431\n",
            "Epoch 46/50\n",
            "49/49 [==============================] - 1s 19ms/step - loss: 5.1829e-05 - accuracy: 1.0000 - val_loss: 0.1818 - val_accuracy: 0.9431\n",
            "Epoch 47/50\n",
            "49/49 [==============================] - 0s 9ms/step - loss: 4.8885e-05 - accuracy: 1.0000 - val_loss: 0.1825 - val_accuracy: 0.9431\n",
            "Epoch 48/50\n",
            "49/49 [==============================] - 1s 13ms/step - loss: 4.6243e-05 - accuracy: 1.0000 - val_loss: 0.1826 - val_accuracy: 0.9431\n",
            "Epoch 49/50\n",
            "49/49 [==============================] - 1s 12ms/step - loss: 4.3681e-05 - accuracy: 1.0000 - val_loss: 0.1827 - val_accuracy: 0.9431\n",
            "Epoch 50/50\n",
            "49/49 [==============================] - 1s 12ms/step - loss: 4.1319e-05 - accuracy: 1.0000 - val_loss: 0.1830 - val_accuracy: 0.9431\n"
          ]
        }
      ]
    },
    {
      "cell_type": "code",
      "source": [
        "import matplotlib.pyplot as plt\n",
        "plt.style.use('ggplot')\n",
        "\n",
        "def plot_history(history):\n",
        "    acc = history.history['accuracy']\n",
        "    val_acc = history.history['val_accuracy']\n",
        "    loss = history.history['loss']\n",
        "    val_loss = history.history['val_loss']\n",
        "    x = range(1, len(acc) + 1)\n",
        "\n",
        "    plt.figure(figsize=(12, 5))\n",
        "    plt.subplot(1, 2, 1)\n",
        "    plt.plot(x, acc, 'b', label='Training acc')\n",
        "    plt.plot(x, val_acc, 'r', label='Validation acc')\n",
        "    plt.title('Training and validation accuracy')\n",
        "    plt.legend()\n",
        "    plt.subplot(1, 2, 2)\n",
        "    plt.plot(x, loss, 'b', label='Training loss')\n",
        "    plt.plot(x, val_loss, 'r', label='Validation loss')\n",
        "    plt.title('Training and validation loss')\n",
        "    plt.legend()"
      ],
      "metadata": {
        "id": "oavCabbXpt0N"
      },
      "execution_count": 187,
      "outputs": []
    },
    {
      "cell_type": "code",
      "source": [
        "plot_history(history)"
      ],
      "metadata": {
        "colab": {
          "base_uri": "https://localhost:8080/",
          "height": 469
        },
        "id": "n72tjg-QtG73",
        "outputId": "af0e6b0e-2803-4435-cefa-61224e463509"
      },
      "execution_count": 110,
      "outputs": [
        {
          "output_type": "display_data",
          "data": {
            "text/plain": [
              "<Figure size 1200x500 with 2 Axes>"
            ],
            "image/png": "[encoded data removed]"
          },
          "metadata": {}
        }
      ]
    },
    {
      "cell_type": "code",
      "source": [
        "predictions=model.predict(data_test)"
      ],
      "metadata": {
        "colab": {
          "base_uri": "https://localhost:8080/"
        },
        "id": "XUxXGyTQtKNu",
        "outputId": "aef15a6a-4c03-4fae-8814-06b4f051a807"
      },
      "execution_count": 188,
      "outputs": [
        {
          "output_type": "stream",
          "name": "stdout",
          "text": [
            "21/21 [==============================] - 0s 3ms/step\n"
          ]
        }
      ]
    },
    {
      "cell_type": "code",
      "source": [
        "preds=np.argmax(predictions, axis=1)"
      ],
      "metadata": {
        "id": "qrkwMJRjt6Ll"
      },
      "execution_count": 189,
      "outputs": []
    },
    {
      "cell_type": "code",
      "source": [
        "from sklearn.metrics import classification_report"
      ],
      "metadata": {
        "id": "4SaiQI9euSm5"
      },
      "execution_count": 190,
      "outputs": []
    },
    {
      "cell_type": "code",
      "source": [
        "print(classification_report(df_test['labels_digits'],preds))"
      ],
      "metadata": {
        "colab": {
          "base_uri": "https://localhost:8080/"
        },
        "id": "6LvnIi9Wt_93",
        "outputId": "1bc37493-d345-480c-b4c2-0f5172f1af67"
      },
      "execution_count": 191,
      "outputs": [
        {
          "output_type": "stream",
          "name": "stdout",
          "text": [
            "              precision    recall  f1-score   support\n",
            "\n",
            "           0       0.94      0.92      0.93       140\n",
            "           1       0.90      0.95      0.93       124\n",
            "           2       0.95      0.92      0.94       136\n",
            "           3       0.99      0.99      0.99       159\n",
            "           4       0.91      0.93      0.92       109\n",
            "\n",
            "    accuracy                           0.94       668\n",
            "   macro avg       0.94      0.94      0.94       668\n",
            "weighted avg       0.94      0.94      0.94       668\n",
            "\n"
          ]
        }
      ]
    },
    {
      "cell_type": "code",
      "source": [
        "labels = {0:'business', 1:'entertainment', 2:'politics', 3:'sport',4:'tech'}"
      ],
      "metadata": {
        "id": "tYo_FVZhuXNJ"
      },
      "execution_count": 192,
      "outputs": []
    },
    {
      "cell_type": "code",
      "source": [
        "def text_to_predict(text):\n",
        "  sequence=tokenizer.texts_to_sequences([text])\n",
        "  text=pad_sequences(sequence,maxlen=T)\n",
        "  predictions=model.predict(text)\n",
        "  preds=np.argmax(predictions, axis=1)\n",
        "  return labels[preds[0]]"
      ],
      "metadata": {
        "id": "f2KsqplVtrXG"
      },
      "execution_count": 193,
      "outputs": []
    },
    {
      "cell_type": "code",
      "source": [
        "text_to_predict(\"Google says it will block Canadian news in the country in response to a new law that aims to make tech giants pay Canadian media for news. Canada's parliament passed\")"
      ],
      "metadata": {
        "colab": {
          "base_uri": "https://localhost:8080/",
          "height": 54
        },
        "id": "O4JwhNQ-0Jw_",
        "outputId": "6f43ae99-e8d7-4fee-fd69-acc854094a37"
      },
      "execution_count": 199,
      "outputs": [
        {
          "output_type": "stream",
          "name": "stdout",
          "text": [
            "1/1 [==============================] - 0s 19ms/step\n"
          ]
        },
        {
          "output_type": "execute_result",
          "data": {
            "text/plain": [
              "'tech'"
            ],
            "application/vnd.google.colaboratory.intrinsic+json": {
              "type": "string"
            }
          },
          "metadata": {},
          "execution_count": 199
        }
      ]
    },
    {
      "cell_type": "code",
      "source": [
        "# Creating model with transformers is better"
      ],
      "metadata": {
        "id": "8rP8XM-40QX5"
      },
      "execution_count": null,
      "outputs": []
    }
  ]
}